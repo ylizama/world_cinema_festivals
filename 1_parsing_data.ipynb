{
 "cells": [
  {
   "cell_type": "code",
   "execution_count": 64,
   "metadata": {},
   "outputs": [],
   "source": [
    "import csv"
   ]
  },
  {
   "cell_type": "markdown",
   "metadata": {},
   "source": [
    "## Parse files"
   ]
  },
  {
   "cell_type": "code",
   "execution_count": 73,
   "metadata": {},
   "outputs": [],
   "source": [
    "FILE = 'data/HBF_IFFR_Harvest 2002_2018_.txt'\n",
    "fi = open(FILE)\n",
    "films = fi.readlines()\n",
    "csv_file = open(\"data/HBF_IFFR_Harvest 2002_2018.csv\", \"a\")\n",
    "csv_writer = csv.writer(csv_file, delimiter='|')\n",
    "csv_writer.writerow(['name','director','year','country','award','section'])\n",
    "for f in films:\n",
    "    try:\n",
    "        film = f.split(' - ')\n",
    "        name = film[0].strip()  \n",
    "\n",
    "        film = film[1].split(',')\n",
    "        director = film[0].strip()\n",
    "        year = film[1].strip()\n",
    "        country = film[2].strip()\n",
    "\n",
    "        award = ' '\n",
    "        section = ' '\n",
    "\n",
    "        for s in film[3:]:\n",
    "            if s.strip().startswith('*'):\n",
    "                section = s.replace('*', '').strip()\n",
    "            elif s.strip().startswith('winner'):\n",
    "                award = s.replace('winner', '').strip()\n",
    "        csv_writer.writerow([name, director, year, country, award, section])\n",
    "    except:  \n",
    "        print(f)"
   ]
  }
 ],
 "metadata": {
  "kernelspec": {
   "display_name": "Python 3",
   "language": "python",
   "name": "python3"
  },
  "language_info": {
   "codemirror_mode": {
    "name": "ipython",
    "version": 3
   },
   "file_extension": ".py",
   "mimetype": "text/x-python",
   "name": "python",
   "nbconvert_exporter": "python",
   "pygments_lexer": "ipython3",
   "version": "3.5.2"
  }
 },
 "nbformat": 4,
 "nbformat_minor": 2
}
