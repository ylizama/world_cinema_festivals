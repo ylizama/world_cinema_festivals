{
 "cells": [
  {
   "cell_type": "code",
   "execution_count": 30,
   "metadata": {},
   "outputs": [],
   "source": [
    "import csv\n",
    "def create_csvs(infile):\n",
    "    pos = infile.rfind('/')\n",
    "    file = infile[:pos+1] + '/csvs'\n",
    "    \n",
    "    filmfile = open(file + \"films.csv\", \"w\")\n",
    "    film_writer = csv.writer(filmfile, delimiter='\\t')\n",
    "    \n",
    "    edgefile = open(file + \"edges.csv\", \"w\")\n",
    "    edge_writer = csv.writer(edgefile, delimiter='\\t')\n",
    "\n",
    "    directorfile = open(file + \"directors.csv\", \"w\")\n",
    "    director_writer = csv.writer(directorfile, delimiter='\\t')\n",
    "    \n",
    "    grantfile = open(file + \"grants.csv\", \"w\")\n",
    "    grant_writer = csv.writer(grantfile, delimiter='\\t')\n",
    "    \n",
    "    countryfile = open(file + \"countries.csv\", \"w\")\n",
    "    country_writer = csv.writer(countryfile, delimiter='\\t')\n",
    "\n",
    "    \n",
    "    film_header = [\"fid:ID\", \"name\", \"year\", \":LABEL\"]\n",
    "    film_writer.writerow(film_header)    \n",
    "    \n",
    "    edge_header = [\":START_ID\", \":END_ID\", \":TYPE\"]\n",
    "    edge_writer.writerow(edge_header)\n",
    "\n",
    "    director_header = [\"dirid:ID\", \"name\", \":LABEL\"]\n",
    "    director_writer.writerow(director_header)\n",
    "    \n",
    "    country_header = [\"cid:ID\", \"name\", \":LABEL\"]\n",
    "    country_writer.writerow(country_header)\n",
    "    \n",
    "    grant_header = [\"gid:ID\", \"name\", \":LABEL\"]\n",
    "    grant_writer.writerow(grant_header)\n",
    "\n",
    "    hdict = {'countries' : {}, \n",
    "             'films' : {}, \n",
    "             'directors' : {}, \n",
    "             'grants' : {}\n",
    "            }\n",
    "    \n",
    "    with open(infile) as csvfile:\n",
    "        reader = csv.reader(csvfile, delimiter='|')\n",
    "        for row in reader:\n",
    "            try:\n",
    "                if row[0] not in hdict['films'].keys():\n",
    "                    hdict['films'][row[0]] = ['f' + str(len(hdict['films'].keys()) + 1), row[0].strip(), row[2].strip(), \"film\"]\n",
    "                id_film =  hdict['films'][row[0]][0]   \n",
    "\n",
    "                directores = row[1].split(\"/\")\n",
    "                countries = row[3].split(\"/\")\n",
    "                grants  = row[4].split(\"/\") if len(row) > 4  else []\n",
    "\n",
    "                for d in directores:   \n",
    "                    d = d.strip()\n",
    "                    if d not in hdict['directors'].keys():\n",
    "                        hdict['directors'][d] = ['d' + str(len(hdict['directors'].keys()) + 1), d, \"director\"]\n",
    "                    id_dir =  hdict['directors'][d][0]\n",
    "                    edge_writer.writerow([id_dir, id_film, \"DIRECTED\"])\n",
    "\n",
    "                for c in countries:\n",
    "                    c = c.strip()\n",
    "                    if c == \"2011\" or c == \"2013\":\n",
    "                        print(row)\n",
    "                    if c not in hdict['countries'].keys():\n",
    "                        hdict['countries'][c] = ['c' + str(len(hdict['countries'].keys()) + 1), c, \"country\"]\n",
    "                    id_count =  hdict['countries'][c][0]\n",
    "                    edge_writer.writerow([id_film, id_count, \"IS_FROM\"])\n",
    "                    \n",
    "\n",
    "                for g in grants:\n",
    "                    g = g.strip()\n",
    "                    if g not in hdict['grants'].keys():\n",
    "                        hdict['grants'][g] = ['g' + str(len(hdict['grants'].keys()) + 1), g, \"grant\"]\n",
    "                    id_grant =  hdict['grants'][g][0]\n",
    "                    edge_writer.writerow([id_film, id_grant, \"FUNDED_BY\"])    \n",
    "            except:\n",
    "                print(row)\n",
    "\n",
    "    for k, v in hdict[\"countries\"].items():\n",
    "        country_writer.writerow(v)      \n",
    "        \n",
    "    for k, v in hdict[\"directors\"].items():\n",
    "        director_writer.writerow(v)\n",
    "        \n",
    "    for k, v in hdict[\"grants\"].items():\n",
    "        grant_writer.writerow(v)    \n",
    "\n",
    "    for k, v in hdict[\"films\"].items():\n",
    "        film_writer.writerow(v)  \n",
    "        \n",
    "    filmfile.close()\n",
    "    edgefile.close()\n",
    "    directorfile.close()\n",
    "    countryfile.close()"
   ]
  },
  {
   "cell_type": "code",
   "execution_count": 31,
   "metadata": {},
   "outputs": [],
   "source": [
    "create_csvs('data/HBF_2002_2018.csv')"
   ]
  },
  {
   "cell_type": "code",
   "execution_count": 32,
   "metadata": {},
   "outputs": [],
   "source": [
    "!cp data/csvs2/* /usr/share/neo4j/import/"
   ]
  },
  {
   "cell_type": "code",
   "execution_count": null,
   "metadata": {},
   "outputs": [],
   "source": [
    "!/usr/share/neo4j/bin/neo4j-admin import --mode=csv --database=hbf.db --nodes:film /usr/share/neo4j/import/films.csv --nodes:country /usr/share/neo4j/import/country.csv  --nodes:director /usr/share/neo4j/import/director.csv --relationships /usr/share/neo4j/import/edges.csv --id-type=string --delimiter='\\t'"
   ]
  },
  {
   "cell_type": "code",
   "execution_count": 38,
   "metadata": {},
   "outputs": [
    {
     "data": {
      "text/plain": [
       "''"
      ]
     },
     "execution_count": 38,
     "metadata": {},
     "output_type": "execute_result"
    }
   ],
   "source": [
    "a= ' '\n",
    "a.strip()"
   ]
  },
  {
   "cell_type": "code",
   "execution_count": null,
   "metadata": {},
   "outputs": [],
   "source": []
  }
 ],
 "metadata": {
  "kernelspec": {
   "display_name": "Python 3",
   "language": "python",
   "name": "python3"
  },
  "language_info": {
   "codemirror_mode": {
    "name": "ipython",
    "version": 3
   },
   "file_extension": ".py",
   "mimetype": "text/x-python",
   "name": "python",
   "nbconvert_exporter": "python",
   "pygments_lexer": "ipython3",
   "version": "3.5.2"
  }
 },
 "nbformat": 4,
 "nbformat_minor": 2
}
